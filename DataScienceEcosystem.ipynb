{
 "cells": [
  {
   "cell_type": "markdown",
   "id": "673ac634-c2d5-4d34-9f76-07d05cb8260e",
   "metadata": {},
   "source": [
    "# Data Science Tools and Ecosystem"
   ]
  },
  {
   "cell_type": "markdown",
   "id": "0b30a2af-022f-40f7-b08f-a29a9ab5003f",
   "metadata": {},
   "source": [
    "In this notebook, Data Science Tools and Ecosystem are summarized."
   ]
  },
  {
   "cell_type": "markdown",
   "id": "d01be769-dff7-46fb-90c3-92cf6fe2338a",
   "metadata": {},
   "source": [
    "**Objectives:**\n",
    "* List Data Science Tools\n",
    "* Perform mathematic calculation \n",
    "* Create a Table"
   ]
  },
  {
   "cell_type": "markdown",
   "id": "9b57c362-fd68-4aaa-9769-e27ef7d3f5f1",
   "metadata": {},
   "source": [
    "Some of the popular languages that Data Scientists use are:\n",
    "1. R\n",
    "2. Python\n",
    "3. SQL "
   ]
  },
  {
   "cell_type": "markdown",
   "id": "8539f842-8459-4360-a4b6-b15480589035",
   "metadata": {},
   "source": [
    "Some of the commonly used libraries used by Data Scientists include:\n",
    "    1. Pandas\n",
    "    2. NumPy\n",
    "    3. SciPy"
   ]
  },
  {
   "cell_type": "markdown",
   "id": "860412fe-e784-408e-9fe9-006ca4c81c98",
   "metadata": {
    "tags": []
   },
   "source": [
    "| Data Science Tools |\n",
    "| --- |\n",
    "| RStudio | \n",
    "| Jupyter Notebooks | \n",
    "| Apache Spark |"
   ]
  },
  {
   "cell_type": "markdown",
   "id": "9da2a475-9d82-46e0-803b-e09ef751fcde",
   "metadata": {},
   "source": [
    "### Below are a few examples of evaluating arithmetic expressions in Python"
   ]
  },
  {
   "cell_type": "code",
   "execution_count": 2,
   "id": "c5e06155-426d-43b9-bac4-858f2e18345e",
   "metadata": {
    "tags": []
   },
   "outputs": [
    {
     "data": {
      "text/plain": [
       "17"
      ]
     },
     "execution_count": 2,
     "metadata": {},
     "output_type": "execute_result"
    }
   ],
   "source": [
    "(3*4)+5"
   ]
  },
  {
   "cell_type": "code",
   "execution_count": 4,
   "id": "c77c9c5f-58c4-4a91-be53-ea7321482fcf",
   "metadata": {
    "tags": []
   },
   "outputs": [],
   "source": [
    "# This will convert 200 minutes to hours by dividing by 60"
   ]
  },
  {
   "cell_type": "code",
   "execution_count": 3,
   "id": "f4da2984-8154-42bf-b8ab-1ebcd0eba569",
   "metadata": {
    "tags": []
   },
   "outputs": [
    {
     "data": {
      "text/plain": [
       "3.3333333333333335"
      ]
     },
     "execution_count": 3,
     "metadata": {},
     "output_type": "execute_result"
    }
   ],
   "source": [
    "200/60"
   ]
  },
  {
   "cell_type": "code",
   "execution_count": null,
   "id": "93b198a3-71f0-4a0a-9c0c-17942e2987d4",
   "metadata": {},
   "outputs": [],
   "source": []
  }
 ],
 "metadata": {
  "kernelspec": {
   "display_name": "Python",
   "language": "python",
   "name": "conda-env-python-py"
  },
  "language_info": {
   "codemirror_mode": {
    "name": "ipython",
    "version": 3
   },
   "file_extension": ".py",
   "mimetype": "text/x-python",
   "name": "python",
   "nbconvert_exporter": "python",
   "pygments_lexer": "ipython3",
   "version": "3.7.12"
  }
 },
 "nbformat": 4,
 "nbformat_minor": 5
}
